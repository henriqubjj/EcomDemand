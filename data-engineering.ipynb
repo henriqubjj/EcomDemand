{
 "cells": [
  {
   "cell_type": "markdown",
   "metadata": {},
   "source": [
    "###Convertendo para csv"
   ]
  },
  {
   "cell_type": "code",
   "execution_count": null,
   "metadata": {
    "vscode": {
     "languageId": "plaintext"
    }
   },
   "outputs": [],
   "source": [
    "import os\n",
    "import glob\n",
    "import pandas as pd\n",
    "\n",
    "# Caminho da pasta onde estão os arquivos XLS\n",
    "folder_path = 'data'\n",
    "\n",
    "# Buscar todos os arquivos com extensão .xls na pasta \"data\"\n",
    "xls_files = glob.glob(os.path.join(folder_path, \"*.xls\"))\n",
    "print(\"Total de arquivos XLS encontrados:\", len(xls_files))\n",
    "\n",
    "# Loop para converter cada arquivo XLS para CSV\n",
    "for file in xls_files:\n",
    "    # Ler o arquivo XLS\n",
    "    df = pd.read_excel(file)\n",
    "    \n",
    "    # Gerar o nome do arquivo CSV com o mesmo nome base\n",
    "    base_name = os.path.splitext(os.path.basename(file))[0]\n",
    "    csv_filename = base_name + \".csv\"\n",
    "    csv_filepath = os.path.join(folder_path, csv_filename)\n",
    "    \n",
    "    # Salvar o DataFrame como CSV\n",
    "    df.to_csv(csv_filepath, index=False)\n",
    "    \n",
    "    print(f\"Convertido: {os.path.basename(file)} -> {csv_filename}\")\n"
   ]
  }
 ],
 "metadata": {
  "language_info": {
   "name": "python"
  }
 },
 "nbformat": 4,
 "nbformat_minor": 2
}
